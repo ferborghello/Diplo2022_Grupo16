{
  "cells": [
    {
      "cell_type": "markdown",
      "metadata": {
        "id": "view-in-github",
        "colab_type": "text"
      },
      "source": [
        "<a href=\"https://colab.research.google.com/github/ferborghello/Diplo2022_Grupo16/blob/main/Entregable_Parte_1_FB_Faltan_Graficos.ipynb\" target=\"_parent\"><img src=\"https://colab.research.google.com/assets/colab-badge.svg\" alt=\"Open In Colab\"/></a>"
      ]
    },
    {
      "cell_type": "markdown",
      "metadata": {
        "id": "LYvAOR2VzHmW"
      },
      "source": [
        "\n",
        "**Diplomatura en Ciencia de Datos, Aprendizaje Automático y sus Aplicaciones**\n",
        "\n",
        "**Edición 2022**\n",
        "\n",
        "---\n",
        "## Trabajo práctico entregable - Parte 1"
      ]
    },
    {
      "cell_type": "code",
      "execution_count": null,
      "metadata": {
        "id": "Xwdfo7z20TUK"
      },
      "outputs": [],
      "source": [
        "import io\n",
        "import matplotlib\n",
        "import matplotlib.pyplot as plt\n",
        "import numpy as np\n",
        "import pandas as pd\n",
        "import seaborn\n",
        "\n",
        "seaborn.set_context('talk')"
      ]
    },
    {
      "cell_type": "markdown",
      "metadata": {
        "id": "XY2Hl-Ma07Nn"
      },
      "source": [
        "## Lectura del dataset"
      ]
    },
    {
      "cell_type": "code",
      "execution_count": null,
      "metadata": {
        "id": "Vviv_sqXdR5W"
      },
      "outputs": [],
      "source": [
        "url = 'https://cs.famaf.unc.edu.ar/~mteruel/datasets/diplodatos/sysarmy_survey_2020_processed.csv'\n",
        "df = pd.read_csv(url)"
      ]
    },
    {
      "cell_type": "code",
      "execution_count": null,
      "metadata": {
        "colab": {
          "base_uri": "https://localhost:8080/",
          "height": 297
        },
        "id": "gckNHXXLktJ4",
        "outputId": "66c64637-de04-4239-a158-ce88d604511d"
      },
      "outputs": [
        {
          "data": {
            "text/html": [
              "<div>\n",
              "<style scoped>\n",
              "    .dataframe tbody tr th:only-of-type {\n",
              "        vertical-align: middle;\n",
              "    }\n",
              "\n",
              "    .dataframe tbody tr th {\n",
              "        vertical-align: top;\n",
              "    }\n",
              "\n",
              "    .dataframe thead th {\n",
              "        text-align: right;\n",
              "    }\n",
              "</style>\n",
              "<table border=\"1\" class=\"dataframe\">\n",
              "  <thead>\n",
              "    <tr style=\"text-align: right;\">\n",
              "      <th></th>\n",
              "      <th>profile_gender</th>\n",
              "      <th>profile_age</th>\n",
              "      <th>work_country</th>\n",
              "      <th>work_province</th>\n",
              "      <th>profile_years_experience</th>\n",
              "      <th>work_years_in_company</th>\n",
              "      <th>work_years_in_current_position</th>\n",
              "      <th>work_people_in_charge_of</th>\n",
              "      <th>profile_studies_level</th>\n",
              "      <th>profile_studies_level_state</th>\n",
              "      <th>...</th>\n",
              "      <th>work_has_violence_situations</th>\n",
              "      <th>profile_sexual_orientation</th>\n",
              "      <th>profile_has_disabilities</th>\n",
              "      <th>profile_has_disabilities_hiring_difficulties</th>\n",
              "      <th>company_employee_number</th>\n",
              "      <th>company_main_activity</th>\n",
              "      <th>company_recommended</th>\n",
              "      <th>company_diversity_policies</th>\n",
              "      <th>company_extra_benefits</th>\n",
              "      <th>company_best_companies_city</th>\n",
              "    </tr>\n",
              "  </thead>\n",
              "  <tbody>\n",
              "    <tr>\n",
              "      <th>0</th>\n",
              "      <td>Mujer</td>\n",
              "      <td>26</td>\n",
              "      <td>Argentina</td>\n",
              "      <td>Ciudad Autónoma de Buenos Aires</td>\n",
              "      <td>3.0</td>\n",
              "      <td>3.0</td>\n",
              "      <td>3.0</td>\n",
              "      <td>0</td>\n",
              "      <td>Universitario</td>\n",
              "      <td>En curso</td>\n",
              "      <td>...</td>\n",
              "      <td>En mi trabajo actual</td>\n",
              "      <td>Homosexual</td>\n",
              "      <td>NaN</td>\n",
              "      <td>NaN</td>\n",
              "      <td>501-1000</td>\n",
              "      <td>Servicios / Consultoría de Software / Digital</td>\n",
              "      <td>7</td>\n",
              "      <td>2</td>\n",
              "      <td>Capacitaciones y/o cursos, Comidas pagas / sub...</td>\n",
              "      <td>NaN</td>\n",
              "    </tr>\n",
              "    <tr>\n",
              "      <th>1</th>\n",
              "      <td>Hombre</td>\n",
              "      <td>29</td>\n",
              "      <td>Argentina</td>\n",
              "      <td>Corrientes</td>\n",
              "      <td>5.0</td>\n",
              "      <td>2.0</td>\n",
              "      <td>2.0</td>\n",
              "      <td>4</td>\n",
              "      <td>Universitario</td>\n",
              "      <td>En curso</td>\n",
              "      <td>...</td>\n",
              "      <td>Jamás</td>\n",
              "      <td>Heterosexual</td>\n",
              "      <td>Visual</td>\n",
              "      <td>No</td>\n",
              "      <td>201-500</td>\n",
              "      <td>Otras industrias</td>\n",
              "      <td>8</td>\n",
              "      <td>9</td>\n",
              "      <td>Horarios flexibles, Stock options / RSUs, Viát...</td>\n",
              "      <td>NaN</td>\n",
              "    </tr>\n",
              "    <tr>\n",
              "      <th>2</th>\n",
              "      <td>Mujer</td>\n",
              "      <td>22</td>\n",
              "      <td>Argentina</td>\n",
              "      <td>Ciudad Autónoma de Buenos Aires</td>\n",
              "      <td>2.0</td>\n",
              "      <td>0.0</td>\n",
              "      <td>0.0</td>\n",
              "      <td>0</td>\n",
              "      <td>Secundario</td>\n",
              "      <td>Completado</td>\n",
              "      <td>...</td>\n",
              "      <td>En un trabajo anterior</td>\n",
              "      <td>Bisexual o queer</td>\n",
              "      <td>NaN</td>\n",
              "      <td>No</td>\n",
              "      <td>2001-5000</td>\n",
              "      <td>Otras industrias</td>\n",
              "      <td>6</td>\n",
              "      <td>9</td>\n",
              "      <td>Clases de gimnasia online, Comidas pagas / sub...</td>\n",
              "      <td>NaN</td>\n",
              "    </tr>\n",
              "    <tr>\n",
              "      <th>3</th>\n",
              "      <td>Hombre</td>\n",
              "      <td>39</td>\n",
              "      <td>Argentina</td>\n",
              "      <td>Corrientes</td>\n",
              "      <td>15.0</td>\n",
              "      <td>15.0</td>\n",
              "      <td>13.0</td>\n",
              "      <td>5</td>\n",
              "      <td>Posgrado</td>\n",
              "      <td>Incompleto</td>\n",
              "      <td>...</td>\n",
              "      <td>En mi trabajo actual</td>\n",
              "      <td>Heterosexual</td>\n",
              "      <td>NaN</td>\n",
              "      <td>NaN</td>\n",
              "      <td>501-1000</td>\n",
              "      <td>Otras industrias</td>\n",
              "      <td>7</td>\n",
              "      <td>6</td>\n",
              "      <td>Abono de celular, Capacitaciones y/o cursos, C...</td>\n",
              "      <td>NaN</td>\n",
              "    </tr>\n",
              "    <tr>\n",
              "      <th>4</th>\n",
              "      <td>Hombre</td>\n",
              "      <td>32</td>\n",
              "      <td>Argentina</td>\n",
              "      <td>Ciudad Autónoma de Buenos Aires</td>\n",
              "      <td>9.0</td>\n",
              "      <td>6.0</td>\n",
              "      <td>6.0</td>\n",
              "      <td>0</td>\n",
              "      <td>Universitario</td>\n",
              "      <td>En curso</td>\n",
              "      <td>...</td>\n",
              "      <td>Jamás</td>\n",
              "      <td>Heterosexual</td>\n",
              "      <td>NaN</td>\n",
              "      <td>NaN</td>\n",
              "      <td>11-50</td>\n",
              "      <td>Servicios / Consultoría de Software / Digital</td>\n",
              "      <td>6</td>\n",
              "      <td>6</td>\n",
              "      <td>Clases de idiomas, Horarios flexibles, Vacacio...</td>\n",
              "      <td>NaN</td>\n",
              "    </tr>\n",
              "  </tbody>\n",
              "</table>\n",
              "<p>5 rows × 48 columns</p>\n",
              "</div>"
            ],
            "text/plain": [
              "  profile_gender  profile_age work_country                    work_province  \\\n",
              "0          Mujer           26    Argentina  Ciudad Autónoma de Buenos Aires   \n",
              "1         Hombre           29    Argentina                       Corrientes   \n",
              "2          Mujer           22    Argentina  Ciudad Autónoma de Buenos Aires   \n",
              "3         Hombre           39    Argentina                       Corrientes   \n",
              "4         Hombre           32    Argentina  Ciudad Autónoma de Buenos Aires   \n",
              "\n",
              "   profile_years_experience  work_years_in_company  \\\n",
              "0                       3.0                    3.0   \n",
              "1                       5.0                    2.0   \n",
              "2                       2.0                    0.0   \n",
              "3                      15.0                   15.0   \n",
              "4                       9.0                    6.0   \n",
              "\n",
              "   work_years_in_current_position  work_people_in_charge_of  \\\n",
              "0                             3.0                         0   \n",
              "1                             2.0                         4   \n",
              "2                             0.0                         0   \n",
              "3                            13.0                         5   \n",
              "4                             6.0                         0   \n",
              "\n",
              "  profile_studies_level profile_studies_level_state  ...  \\\n",
              "0         Universitario                    En curso  ...   \n",
              "1         Universitario                    En curso  ...   \n",
              "2            Secundario                  Completado  ...   \n",
              "3              Posgrado                  Incompleto  ...   \n",
              "4         Universitario                    En curso  ...   \n",
              "\n",
              "  work_has_violence_situations profile_sexual_orientation  \\\n",
              "0         En mi trabajo actual                 Homosexual   \n",
              "1                        Jamás               Heterosexual   \n",
              "2       En un trabajo anterior           Bisexual o queer   \n",
              "3         En mi trabajo actual               Heterosexual   \n",
              "4                        Jamás               Heterosexual   \n",
              "\n",
              "  profile_has_disabilities profile_has_disabilities_hiring_difficulties  \\\n",
              "0                      NaN                                          NaN   \n",
              "1                   Visual                                           No   \n",
              "2                      NaN                                           No   \n",
              "3                      NaN                                          NaN   \n",
              "4                      NaN                                          NaN   \n",
              "\n",
              "  company_employee_number                          company_main_activity  \\\n",
              "0                501-1000  Servicios / Consultoría de Software / Digital   \n",
              "1                 201-500                               Otras industrias   \n",
              "2               2001-5000                               Otras industrias   \n",
              "3                501-1000                               Otras industrias   \n",
              "4                   11-50  Servicios / Consultoría de Software / Digital   \n",
              "\n",
              "  company_recommended company_diversity_policies  \\\n",
              "0                   7                          2   \n",
              "1                   8                          9   \n",
              "2                   6                          9   \n",
              "3                   7                          6   \n",
              "4                   6                          6   \n",
              "\n",
              "                              company_extra_benefits  \\\n",
              "0  Capacitaciones y/o cursos, Comidas pagas / sub...   \n",
              "1  Horarios flexibles, Stock options / RSUs, Viát...   \n",
              "2  Clases de gimnasia online, Comidas pagas / sub...   \n",
              "3  Abono de celular, Capacitaciones y/o cursos, C...   \n",
              "4  Clases de idiomas, Horarios flexibles, Vacacio...   \n",
              "\n",
              "  company_best_companies_city  \n",
              "0                         NaN  \n",
              "1                         NaN  \n",
              "2                         NaN  \n",
              "3                         NaN  \n",
              "4                         NaN  \n",
              "\n",
              "[5 rows x 48 columns]"
            ]
          },
          "execution_count": 332,
          "metadata": {},
          "output_type": "execute_result"
        }
      ],
      "source": [
        "df.head()"
      ]
    },
    {
      "cell_type": "markdown",
      "metadata": {
        "id": "-ZSQYANFHHgV"
      },
      "source": [
        "# Ejercicio 1 - Análisis descriptivo\n",
        "\n",
        "Responder a la pregunta: **¿Cuáles son los lenguajes de programación asociados a los mejores salarios?**\n",
        "\n",
        "Para ello:\n",
        "1. Seleccionar las columnas relevantes para analizar.\n",
        "2. Seleccionar las filas relevantes para analizar. Esto incluye la eliminación de valores extremos y erróneos, pero también puede enfocar el análisis en una sub-población. Por ejemplo, se pueden limitar a personas con un salario mayor que 10000 pesos, o a las personas que trabajan sólo en \"Data Science\", pero deben justificar su elección y reformular la pregunta inicial de ser necesario.\n",
        "  * Obtener una lista de los lenguajes de programación más populares. Decidir cuántos y cuáles seleccionan para incluir en el análisis.\n",
        "  * Para cada una de las otras columnas del punto anterior, elegir los rangos o valores seleccionan para incluir en el análisis.\n",
        "3. Seleccionar métricas que ayuden a responder la pregunta, y los métodos para analizarlas. Elegir UNA de las siguientes opciones:\n",
        "  * Comparar las distribuciones de salario para cada lenguaje utilizando visualizaciones. Como la visualización es el producto final, debe ser clara y mostrar información relevante.\n",
        "  * Comparar medidas de estadística descriptiva sobre la distribución de salario para cada lenguaje. Sean creativos, la estadística descriptiva nos permite decir cosas como: \"el 10% de los mejores sueldos los ganan, en su mayoría, programadores que saben kotlin!\" (donde *mayoría* es un término medio engañoso que sólo significa más del 50%). Para comparar múltiples lenguajes, les recomendamos usar también visualizaciones.\n",
        "  * Comparar probabilidades. Por ejemplo: \"Si sabés Python o Java, tenés un 30% más de chances de ganar arriba de 100K\".\n",
        "\n",
        "Si lo consideran necesario, realicen varias iteraciones. Es decir, si encuentran que las distribuciones de los lenguajes de programación que seleccionaron inicialmente no son muy diferentes, pueden re-hacer el análisis usando sólo los lenguajes de programación que son diferentes."
      ]
    },
    {
      "cell_type": "code",
      "execution_count": null,
      "metadata": {
        "id": "6dqTEr7cZgvl",
        "outputId": "d13d08d4-9b11-4b74-edb1-0f6b94f08d04"
      },
      "outputs": [
        {
          "data": {
            "text/html": [
              "<div>\n",
              "<style scoped>\n",
              "    .dataframe tbody tr th:only-of-type {\n",
              "        vertical-align: middle;\n",
              "    }\n",
              "\n",
              "    .dataframe tbody tr th {\n",
              "        vertical-align: top;\n",
              "    }\n",
              "\n",
              "    .dataframe thead th {\n",
              "        text-align: right;\n",
              "    }\n",
              "</style>\n",
              "<table border=\"1\" class=\"dataframe\">\n",
              "  <thead>\n",
              "    <tr style=\"text-align: right;\">\n",
              "      <th></th>\n",
              "      <th>salary_monthly_NETO</th>\n",
              "      <th>tools_programming_languages</th>\n",
              "    </tr>\n",
              "  </thead>\n",
              "  <tbody>\n",
              "    <tr>\n",
              "      <th>0</th>\n",
              "      <td>43000.000</td>\n",
              "      <td>Ninguno</td>\n",
              "    </tr>\n",
              "    <tr>\n",
              "      <th>1</th>\n",
              "      <td>63000.000</td>\n",
              "      <td>HTML, Javascript, Python</td>\n",
              "    </tr>\n",
              "    <tr>\n",
              "      <th>2</th>\n",
              "      <td>127000.000</td>\n",
              "      <td>Ninguno</td>\n",
              "    </tr>\n",
              "    <tr>\n",
              "      <th>3</th>\n",
              "      <td>102000.000</td>\n",
              "      <td>Bash/Shell, C, CSS, HTML, Java, Javascript, PH...</td>\n",
              "    </tr>\n",
              "    <tr>\n",
              "      <th>4</th>\n",
              "      <td>106000.000</td>\n",
              "      <td>CSS, HTML, Javascript, SQL, TypeScript</td>\n",
              "    </tr>\n",
              "    <tr>\n",
              "      <th>...</th>\n",
              "      <td>...</td>\n",
              "      <td>...</td>\n",
              "    </tr>\n",
              "    <tr>\n",
              "      <th>6090</th>\n",
              "      <td>97000.000</td>\n",
              "      <td>.NET, C#, COBOL, CSS, HTML, Javascript, PHP, S...</td>\n",
              "    </tr>\n",
              "    <tr>\n",
              "      <th>6091</th>\n",
              "      <td>71000.000</td>\n",
              "      <td>Ninguno de los anteriores</td>\n",
              "    </tr>\n",
              "    <tr>\n",
              "      <th>6092</th>\n",
              "      <td>45.753</td>\n",
              "      <td>Ninguno de los anteriores</td>\n",
              "    </tr>\n",
              "    <tr>\n",
              "      <th>6093</th>\n",
              "      <td>72.000</td>\n",
              "      <td>C, C++, HTML, Java, Javascript, PHP, Python, SQL</td>\n",
              "    </tr>\n",
              "    <tr>\n",
              "      <th>6094</th>\n",
              "      <td>65000.000</td>\n",
              "      <td>Ninguno de los anteriores</td>\n",
              "    </tr>\n",
              "  </tbody>\n",
              "</table>\n",
              "<p>6095 rows × 2 columns</p>\n",
              "</div>"
            ],
            "text/plain": [
              "      salary_monthly_NETO                        tools_programming_languages\n",
              "0               43000.000                                            Ninguno\n",
              "1               63000.000                           HTML, Javascript, Python\n",
              "2              127000.000                                            Ninguno\n",
              "3              102000.000  Bash/Shell, C, CSS, HTML, Java, Javascript, PH...\n",
              "4              106000.000             CSS, HTML, Javascript, SQL, TypeScript\n",
              "...                   ...                                                ...\n",
              "6090            97000.000  .NET, C#, COBOL, CSS, HTML, Javascript, PHP, S...\n",
              "6091            71000.000                          Ninguno de los anteriores\n",
              "6092               45.753                          Ninguno de los anteriores\n",
              "6093               72.000   C, C++, HTML, Java, Javascript, PHP, Python, SQL\n",
              "6094            65000.000                          Ninguno de los anteriores\n",
              "\n",
              "[6095 rows x 2 columns]"
            ]
          },
          "execution_count": 333,
          "metadata": {},
          "output_type": "execute_result"
        }
      ],
      "source": [
        "#Selecciono las columnas con las que quiero trabajar\n",
        "df1 = df[[\"salary_monthly_NETO\", \"tools_programming_languages\"]]\n",
        "df1"
      ]
    },
    {
      "cell_type": "code",
      "execution_count": null,
      "metadata": {
        "id": "m5DGFsZVUhkY",
        "outputId": "ea2dc7af-4a3d-424c-a119-2b39d5ddc1ab"
      },
      "outputs": [
        {
          "data": {
            "text/plain": [
              "count       5883.00\n",
              "mean       94907.95\n",
              "std        96862.26\n",
              "min            1.00\n",
              "25%        51480.00\n",
              "50%        78000.00\n",
              "75%       106000.00\n",
              "max      2080000.00\n",
              "Name: salary_monthly_NETO, dtype: float64"
            ]
          },
          "execution_count": 334,
          "metadata": {},
          "output_type": "execute_result"
        }
      ],
      "source": [
        "df1.salary_monthly_NETO.describe().round(2)"
      ]
    },
    {
      "cell_type": "code",
      "execution_count": null,
      "metadata": {
        "id": "KYNGDkkcUhkZ",
        "outputId": "aae7f6fb-f2f1-4f42-b04e-43197c48cc02"
      },
      "outputs": [
        {
          "data": {
            "image/png": "[encoded data removed]",
            "text/plain": [
              "<Figure size 432x288 with 1 Axes>"
            ]
          },
          "metadata": {
            "needs_background": "light"
          },
          "output_type": "display_data"
        }
      ],
      "source": [
        "plt.hist(df1['salary_monthly_NETO'], bins = 100)\n",
        "plt.ticklabel_format(style='plain', axis='x')\n",
        "plt.xlabel(\"Salario Mensual Neto\")\n",
        "plt.ylabel(\"Frecuencia\")\n",
        "plt.show()"
      ]
    },
    {
      "cell_type": "markdown",
      "metadata": {
        "id": "OAbM0uKRUhkZ"
      },
      "source": [
        "En donde podemos ver un valor minimo en 1 peso y un valor maximo en 2.080.000 pesos, los cuales son salarios mensuales atipicos en Argentina por lo cual decido eliminarlos utilizando el Q25% y el Q75%."
      ]
    },
    {
      "cell_type": "code",
      "execution_count": null,
      "metadata": {
        "id": "_FsiOI4QUhkZ",
        "outputId": "972812ba-3987-4c14-88fc-767a9810b193"
      },
      "outputs": [
        {
          "data": {
            "text/html": [
              "<div>\n",
              "<style scoped>\n",
              "    .dataframe tbody tr th:only-of-type {\n",
              "        vertical-align: middle;\n",
              "    }\n",
              "\n",
              "    .dataframe tbody tr th {\n",
              "        vertical-align: top;\n",
              "    }\n",
              "\n",
              "    .dataframe thead th {\n",
              "        text-align: right;\n",
              "    }\n",
              "</style>\n",
              "<table border=\"1\" class=\"dataframe\">\n",
              "  <thead>\n",
              "    <tr style=\"text-align: right;\">\n",
              "      <th></th>\n",
              "      <th>salary_monthly_NETO</th>\n",
              "      <th>tools_programming_languages</th>\n",
              "    </tr>\n",
              "  </thead>\n",
              "  <tbody>\n",
              "    <tr>\n",
              "      <th>0</th>\n",
              "      <td>63000.0</td>\n",
              "      <td>HTML, Javascript, Python</td>\n",
              "    </tr>\n",
              "    <tr>\n",
              "      <th>1</th>\n",
              "      <td>102000.0</td>\n",
              "      <td>Bash/Shell, C, CSS, HTML, Java, Javascript, PH...</td>\n",
              "    </tr>\n",
              "    <tr>\n",
              "      <th>2</th>\n",
              "      <td>106000.0</td>\n",
              "      <td>CSS, HTML, Javascript, SQL, TypeScript</td>\n",
              "    </tr>\n",
              "    <tr>\n",
              "      <th>3</th>\n",
              "      <td>62400.0</td>\n",
              "      <td>Javascript</td>\n",
              "    </tr>\n",
              "    <tr>\n",
              "      <th>4</th>\n",
              "      <td>75000.0</td>\n",
              "      <td>Javascript, PHP, TypeScript</td>\n",
              "    </tr>\n",
              "    <tr>\n",
              "      <th>...</th>\n",
              "      <td>...</td>\n",
              "      <td>...</td>\n",
              "    </tr>\n",
              "    <tr>\n",
              "      <th>3281</th>\n",
              "      <td>82000.0</td>\n",
              "      <td>Java, PHP, Python, SQL</td>\n",
              "    </tr>\n",
              "    <tr>\n",
              "      <th>3282</th>\n",
              "      <td>56450.0</td>\n",
              "      <td>HTML</td>\n",
              "    </tr>\n",
              "    <tr>\n",
              "      <th>3283</th>\n",
              "      <td>97000.0</td>\n",
              "      <td>.NET, C#, COBOL, CSS, HTML, Javascript, PHP, S...</td>\n",
              "    </tr>\n",
              "    <tr>\n",
              "      <th>3284</th>\n",
              "      <td>71000.0</td>\n",
              "      <td>Ninguno de los anteriores</td>\n",
              "    </tr>\n",
              "    <tr>\n",
              "      <th>3285</th>\n",
              "      <td>65000.0</td>\n",
              "      <td>Ninguno de los anteriores</td>\n",
              "    </tr>\n",
              "  </tbody>\n",
              "</table>\n",
              "<p>3286 rows × 2 columns</p>\n",
              "</div>"
            ],
            "text/plain": [
              "      salary_monthly_NETO                        tools_programming_languages\n",
              "0                 63000.0                           HTML, Javascript, Python\n",
              "1                102000.0  Bash/Shell, C, CSS, HTML, Java, Javascript, PH...\n",
              "2                106000.0             CSS, HTML, Javascript, SQL, TypeScript\n",
              "3                 62400.0                                         Javascript\n",
              "4                 75000.0                        Javascript, PHP, TypeScript\n",
              "...                   ...                                                ...\n",
              "3281              82000.0                             Java, PHP, Python, SQL\n",
              "3282              56450.0                                               HTML\n",
              "3283              97000.0  .NET, C#, COBOL, CSS, HTML, Javascript, PHP, S...\n",
              "3284              71000.0                          Ninguno de los anteriores\n",
              "3285              65000.0                          Ninguno de los anteriores\n",
              "\n",
              "[3286 rows x 2 columns]"
            ]
          },
          "execution_count": 336,
          "metadata": {},
          "output_type": "execute_result"
        }
      ],
      "source": [
        "df25=df1[df1['salary_monthly_NETO'] > df1['salary_monthly_NETO'].quantile(0.25)]\n",
        "df25_75=df25[df25['salary_monthly_NETO'] < df25['salary_monthly_NETO'].quantile(0.75)]\n",
        "df_filt = df25_75.reset_index()\n",
        "df_filt=df_filt[[\"salary_monthly_NETO\", \"tools_programming_languages\"]]\n",
        "df_filt"
      ]
    },
    {
      "cell_type": "markdown",
      "metadata": {
        "id": "Pe4dkcLSUhka"
      },
      "source": [
        "HISTOGRAMA FILTRADO"
      ]
    },
    {
      "cell_type": "code",
      "execution_count": null,
      "metadata": {
        "id": "4p4XO2raUhka",
        "outputId": "f35ce557-a021-4ee1-cb02-12eeeabb0521"
      },
      "outputs": [
        {
          "data": {
            "image/png": "[encoded data removed]",
            "text/plain": [
              "<Figure size 432x288 with 1 Axes>"
            ]
          },
          "metadata": {
            "needs_background": "light"
          },
          "output_type": "display_data"
        }
      ],
      "source": [
        "plt.hist(df_filt['salary_monthly_NETO'], bins = 40)\n",
        "plt.ticklabel_format(style='plain', axis='x')\n",
        "plt.xlabel(\"Salario Mensual Neto\")\n",
        "plt.ylabel(\"Frecuencia\")\n",
        "plt.show()"
      ]
    },
    {
      "cell_type": "markdown",
      "metadata": {
        "id": "OoGgzMvuEocM"
      },
      "source": [
        "### Conteo de frecuencias de los lenguajes de programación\n",
        "\n",
        "La columna que contiene información sobre los lenguajes de programación utilizados es `tools_programming_languages`. Sus valores son strings con los lenguajes seleccionados separados por comas.\n",
        "\n"
      ]
    },
    {
      "cell_type": "code",
      "execution_count": null,
      "metadata": {
        "colab": {
          "base_uri": "https://localhost:8080/"
        },
        "id": "J7AB2Ty8SvNl",
        "outputId": "cb0ee28d-5c7f-4ed5-cf32-f4fddce64eb7"
      },
      "outputs": [
        {
          "data": {
            "text/plain": [
              "0                             HTML, Javascript, Python\n",
              "1    Bash/Shell, C, CSS, HTML, Java, Javascript, PH...\n",
              "2               CSS, HTML, Javascript, SQL, TypeScript\n",
              "3                                           Javascript\n",
              "4                          Javascript, PHP, TypeScript\n",
              "Name: tools_programming_languages, dtype: object"
            ]
          },
          "execution_count": 338,
          "metadata": {},
          "output_type": "execute_result"
        }
      ],
      "source": [
        "df_filt.tools_programming_languages.head()"
      ]
    },
    {
      "cell_type": "markdown",
      "metadata": {
        "id": "l8bYmvMhSroH"
      },
      "source": [
        "Realizo una Limpieza de la columna tools_programming_languages"
      ]
    },
    {
      "cell_type": "code",
      "execution_count": null,
      "metadata": {
        "id": "XAG4cQEuUhkb",
        "outputId": "02d8a882-2fdd-448e-ba36-2524b88cec88"
      },
      "outputs": [
        {
          "data": {
            "text/html": [
              "<div>\n",
              "<style scoped>\n",
              "    .dataframe tbody tr th:only-of-type {\n",
              "        vertical-align: middle;\n",
              "    }\n",
              "\n",
              "    .dataframe tbody tr th {\n",
              "        vertical-align: top;\n",
              "    }\n",
              "\n",
              "    .dataframe thead th {\n",
              "        text-align: right;\n",
              "    }\n",
              "</style>\n",
              "<table border=\"1\" class=\"dataframe\">\n",
              "  <thead>\n",
              "    <tr style=\"text-align: right;\">\n",
              "      <th></th>\n",
              "      <th>salary_monthly_NETO</th>\n",
              "      <th>tools_programming_languages</th>\n",
              "    </tr>\n",
              "  </thead>\n",
              "  <tbody>\n",
              "    <tr>\n",
              "      <th>0</th>\n",
              "      <td>63000.0</td>\n",
              "      <td>html, javascript, python</td>\n",
              "    </tr>\n",
              "    <tr>\n",
              "      <th>1</th>\n",
              "      <td>102000.0</td>\n",
              "      <td>bash/shell, c, css, html, java, javascript, ph...</td>\n",
              "    </tr>\n",
              "    <tr>\n",
              "      <th>2</th>\n",
              "      <td>106000.0</td>\n",
              "      <td>css, html, javascript, sql, typescript</td>\n",
              "    </tr>\n",
              "    <tr>\n",
              "      <th>3</th>\n",
              "      <td>62400.0</td>\n",
              "      <td>javascript</td>\n",
              "    </tr>\n",
              "    <tr>\n",
              "      <th>4</th>\n",
              "      <td>75000.0</td>\n",
              "      <td>javascript, php, typescript</td>\n",
              "    </tr>\n",
              "    <tr>\n",
              "      <th>...</th>\n",
              "      <td>...</td>\n",
              "      <td>...</td>\n",
              "    </tr>\n",
              "    <tr>\n",
              "      <th>2740</th>\n",
              "      <td>70000.0</td>\n",
              "      <td>bash/shell, css, html, java, javascript, php, ...</td>\n",
              "    </tr>\n",
              "    <tr>\n",
              "      <th>2741</th>\n",
              "      <td>53784.0</td>\n",
              "      <td>c#, css, html, javascript, python, sql, typesc...</td>\n",
              "    </tr>\n",
              "    <tr>\n",
              "      <th>2742</th>\n",
              "      <td>82000.0</td>\n",
              "      <td>java, php, python, sql</td>\n",
              "    </tr>\n",
              "    <tr>\n",
              "      <th>2743</th>\n",
              "      <td>56450.0</td>\n",
              "      <td>html</td>\n",
              "    </tr>\n",
              "    <tr>\n",
              "      <th>2744</th>\n",
              "      <td>97000.0</td>\n",
              "      <td>.net, c#, cobol, css, html, javascript, php, s...</td>\n",
              "    </tr>\n",
              "  </tbody>\n",
              "</table>\n",
              "<p>2745 rows × 2 columns</p>\n",
              "</div>"
            ],
            "text/plain": [
              "      salary_monthly_NETO                        tools_programming_languages\n",
              "0                 63000.0                           html, javascript, python\n",
              "1                102000.0  bash/shell, c, css, html, java, javascript, ph...\n",
              "2                106000.0             css, html, javascript, sql, typescript\n",
              "3                 62400.0                                         javascript\n",
              "4                 75000.0                        javascript, php, typescript\n",
              "...                   ...                                                ...\n",
              "2740              70000.0  bash/shell, css, html, java, javascript, php, ...\n",
              "2741              53784.0  c#, css, html, javascript, python, sql, typesc...\n",
              "2742              82000.0                             java, php, python, sql\n",
              "2743              56450.0                                               html\n",
              "2744              97000.0  .net, c#, cobol, css, html, javascript, php, s...\n",
              "\n",
              "[2745 rows x 2 columns]"
            ]
          },
          "execution_count": 339,
          "metadata": {},
          "output_type": "execute_result"
        }
      ],
      "source": [
        "df_filt['tools_programming_languages'] = df_filt['tools_programming_languages'].str.lower() # paso todo a minisculas\n",
        "df_filt['tools_programming_languages'] =df_filt['tools_programming_languages'].replace(['ninguno de los anteriores', 'ninguno'], '')\n",
        "df_filt['tools_programming_languages'] =df_filt['tools_programming_languages'].replace('', np.nan)\n",
        "df_filt =df_filt.dropna() #Borro las filas NaN\n",
        "df_filt = df_filt.reset_index(drop=True)\n",
        "df_filt=df_filt[[\"salary_monthly_NETO\", \"tools_programming_languages\"]]\n",
        "df_filt"
      ]
    },
    {
      "cell_type": "markdown",
      "metadata": {
        "id": "np4y7OejUhkb"
      },
      "source": [
        "Separo los Lenguajes de programacion en diferentes filas."
      ]
    },
    {
      "cell_type": "code",
      "execution_count": null,
      "metadata": {
        "id": "GDqKEjePUhkb",
        "outputId": "ef37b679-0616-4991-b627-9fdc599771bc"
      },
      "outputs": [
        {
          "data": {
            "text/html": [
              "<div>\n",
              "<style scoped>\n",
              "    .dataframe tbody tr th:only-of-type {\n",
              "        vertical-align: middle;\n",
              "    }\n",
              "\n",
              "    .dataframe tbody tr th {\n",
              "        vertical-align: top;\n",
              "    }\n",
              "\n",
              "    .dataframe thead th {\n",
              "        text-align: right;\n",
              "    }\n",
              "</style>\n",
              "<table border=\"1\" class=\"dataframe\">\n",
              "  <thead>\n",
              "    <tr style=\"text-align: right;\">\n",
              "      <th></th>\n",
              "      <th>salary_monthly_NETO</th>\n",
              "      <th>tools_programming_languages</th>\n",
              "      <th>variable</th>\n",
              "      <th>Lenguaje</th>\n",
              "    </tr>\n",
              "  </thead>\n",
              "  <tbody>\n",
              "    <tr>\n",
              "      <th>0</th>\n",
              "      <td>63000.0</td>\n",
              "      <td>html, javascript, python</td>\n",
              "      <td>0</td>\n",
              "      <td>html</td>\n",
              "    </tr>\n",
              "    <tr>\n",
              "      <th>1</th>\n",
              "      <td>102000.0</td>\n",
              "      <td>bash/shell, c, css, html, java, javascript, ph...</td>\n",
              "      <td>0</td>\n",
              "      <td>bash/shell</td>\n",
              "    </tr>\n",
              "    <tr>\n",
              "      <th>2</th>\n",
              "      <td>106000.0</td>\n",
              "      <td>css, html, javascript, sql, typescript</td>\n",
              "      <td>0</td>\n",
              "      <td>css</td>\n",
              "    </tr>\n",
              "    <tr>\n",
              "      <th>3</th>\n",
              "      <td>62400.0</td>\n",
              "      <td>javascript</td>\n",
              "      <td>0</td>\n",
              "      <td>javascript</td>\n",
              "    </tr>\n",
              "    <tr>\n",
              "      <th>4</th>\n",
              "      <td>75000.0</td>\n",
              "      <td>javascript, php, typescript</td>\n",
              "      <td>0</td>\n",
              "      <td>javascript</td>\n",
              "    </tr>\n",
              "    <tr>\n",
              "      <th>...</th>\n",
              "      <td>...</td>\n",
              "      <td>...</td>\n",
              "      <td>...</td>\n",
              "      <td>...</td>\n",
              "    </tr>\n",
              "    <tr>\n",
              "      <th>37626</th>\n",
              "      <td>73400.0</td>\n",
              "      <td>.net, actionscript, c, c++, c#, cobol, delphi,...</td>\n",
              "      <td>13</td>\n",
              "      <td>smalltalk</td>\n",
              "    </tr>\n",
              "    <tr>\n",
              "      <th>39872</th>\n",
              "      <td>101760.0</td>\n",
              "      <td>.net, abap, actionscript, bash/shell, c, c++, ...</td>\n",
              "      <td>14</td>\n",
              "      <td>python</td>\n",
              "    </tr>\n",
              "    <tr>\n",
              "      <th>40371</th>\n",
              "      <td>73400.0</td>\n",
              "      <td>.net, actionscript, c, c++, c#, cobol, delphi,...</td>\n",
              "      <td>14</td>\n",
              "      <td>sql</td>\n",
              "    </tr>\n",
              "    <tr>\n",
              "      <th>42617</th>\n",
              "      <td>101760.0</td>\n",
              "      <td>.net, abap, actionscript, bash/shell, c, c++, ...</td>\n",
              "      <td>15</td>\n",
              "      <td>sql</td>\n",
              "    </tr>\n",
              "    <tr>\n",
              "      <th>45362</th>\n",
              "      <td>101760.0</td>\n",
              "      <td>.net, abap, actionscript, bash/shell, c, c++, ...</td>\n",
              "      <td>16</td>\n",
              "      <td>vba</td>\n",
              "    </tr>\n",
              "  </tbody>\n",
              "</table>\n",
              "<p>9302 rows × 4 columns</p>\n",
              "</div>"
            ],
            "text/plain": [
              "       salary_monthly_NETO                        tools_programming_languages  \\\n",
              "0                  63000.0                           html, javascript, python   \n",
              "1                 102000.0  bash/shell, c, css, html, java, javascript, ph...   \n",
              "2                 106000.0             css, html, javascript, sql, typescript   \n",
              "3                  62400.0                                         javascript   \n",
              "4                  75000.0                        javascript, php, typescript   \n",
              "...                    ...                                                ...   \n",
              "37626              73400.0  .net, actionscript, c, c++, c#, cobol, delphi,...   \n",
              "39872             101760.0  .net, abap, actionscript, bash/shell, c, c++, ...   \n",
              "40371              73400.0  .net, actionscript, c, c++, c#, cobol, delphi,...   \n",
              "42617             101760.0  .net, abap, actionscript, bash/shell, c, c++, ...   \n",
              "45362             101760.0  .net, abap, actionscript, bash/shell, c, c++, ...   \n",
              "\n",
              "      variable    Lenguaje  \n",
              "0            0        html  \n",
              "1            0  bash/shell  \n",
              "2            0         css  \n",
              "3            0  javascript  \n",
              "4            0  javascript  \n",
              "...        ...         ...  \n",
              "37626       13   smalltalk  \n",
              "39872       14      python  \n",
              "40371       14         sql  \n",
              "42617       15         sql  \n",
              "45362       16         vba  \n",
              "\n",
              "[9302 rows x 4 columns]"
            ]
          },
          "execution_count": 340,
          "metadata": {},
          "output_type": "execute_result"
        }
      ],
      "source": [
        "df_sep= df_filt['tools_programming_languages'].str.split(',', expand=True) #separa los lenguajes segun la \",\" en distintas columnas\n",
        "df_filt = pd.concat([df_filt,df_sep], axis=1)\n",
        "df_melt = pd.melt(df_filt, id_vars=['salary_monthly_NETO','tools_programming_languages'], value_vars=[0,1,2,3,4,5,6,7,8,9,10,11,12,13,14,15,16],value_name='Lenguaje')\n",
        "df_melt =df_melt.dropna()\n",
        "df_melt"
      ]
    },
    {
      "cell_type": "code",
      "execution_count": null,
      "metadata": {
        "id": "sEDXVAFAUhkc",
        "outputId": "ed825c55-aae6-4a57-8aea-f641c8f2662a"
      },
      "outputs": [
        {
          "data": {
            "text/html": [
              "<div>\n",
              "<style scoped>\n",
              "    .dataframe tbody tr th:only-of-type {\n",
              "        vertical-align: middle;\n",
              "    }\n",
              "\n",
              "    .dataframe tbody tr th {\n",
              "        vertical-align: top;\n",
              "    }\n",
              "\n",
              "    .dataframe thead th {\n",
              "        text-align: right;\n",
              "    }\n",
              "</style>\n",
              "<table border=\"1\" class=\"dataframe\">\n",
              "  <thead>\n",
              "    <tr style=\"text-align: right;\">\n",
              "      <th></th>\n",
              "      <th>salary_monthly_NETO</th>\n",
              "      <th>tools_programming_languages</th>\n",
              "      <th>Lenguaje</th>\n",
              "    </tr>\n",
              "  </thead>\n",
              "  <tbody>\n",
              "    <tr>\n",
              "      <th>0</th>\n",
              "      <td>63000.0</td>\n",
              "      <td>html, javascript, python</td>\n",
              "      <td>html</td>\n",
              "    </tr>\n",
              "    <tr>\n",
              "      <th>1</th>\n",
              "      <td>102000.0</td>\n",
              "      <td>bash/shell, c, css, html, java, javascript, ph...</td>\n",
              "      <td>bash/shell</td>\n",
              "    </tr>\n",
              "    <tr>\n",
              "      <th>2</th>\n",
              "      <td>106000.0</td>\n",
              "      <td>css, html, javascript, sql, typescript</td>\n",
              "      <td>css</td>\n",
              "    </tr>\n",
              "    <tr>\n",
              "      <th>3</th>\n",
              "      <td>62400.0</td>\n",
              "      <td>javascript</td>\n",
              "      <td>javascript</td>\n",
              "    </tr>\n",
              "    <tr>\n",
              "      <th>4</th>\n",
              "      <td>75000.0</td>\n",
              "      <td>javascript, php, typescript</td>\n",
              "      <td>javascript</td>\n",
              "    </tr>\n",
              "    <tr>\n",
              "      <th>...</th>\n",
              "      <td>...</td>\n",
              "      <td>...</td>\n",
              "      <td>...</td>\n",
              "    </tr>\n",
              "    <tr>\n",
              "      <th>37626</th>\n",
              "      <td>73400.0</td>\n",
              "      <td>.net, actionscript, c, c++, c#, cobol, delphi,...</td>\n",
              "      <td>smalltalk</td>\n",
              "    </tr>\n",
              "    <tr>\n",
              "      <th>39872</th>\n",
              "      <td>101760.0</td>\n",
              "      <td>.net, abap, actionscript, bash/shell, c, c++, ...</td>\n",
              "      <td>python</td>\n",
              "    </tr>\n",
              "    <tr>\n",
              "      <th>40371</th>\n",
              "      <td>73400.0</td>\n",
              "      <td>.net, actionscript, c, c++, c#, cobol, delphi,...</td>\n",
              "      <td>sql</td>\n",
              "    </tr>\n",
              "    <tr>\n",
              "      <th>42617</th>\n",
              "      <td>101760.0</td>\n",
              "      <td>.net, abap, actionscript, bash/shell, c, c++, ...</td>\n",
              "      <td>sql</td>\n",
              "    </tr>\n",
              "    <tr>\n",
              "      <th>45362</th>\n",
              "      <td>101760.0</td>\n",
              "      <td>.net, abap, actionscript, bash/shell, c, c++, ...</td>\n",
              "      <td>vba</td>\n",
              "    </tr>\n",
              "  </tbody>\n",
              "</table>\n",
              "<p>9302 rows × 3 columns</p>\n",
              "</div>"
            ],
            "text/plain": [
              "       salary_monthly_NETO                        tools_programming_languages  \\\n",
              "0                  63000.0                           html, javascript, python   \n",
              "1                 102000.0  bash/shell, c, css, html, java, javascript, ph...   \n",
              "2                 106000.0             css, html, javascript, sql, typescript   \n",
              "3                  62400.0                                         javascript   \n",
              "4                  75000.0                        javascript, php, typescript   \n",
              "...                    ...                                                ...   \n",
              "37626              73400.0  .net, actionscript, c, c++, c#, cobol, delphi,...   \n",
              "39872             101760.0  .net, abap, actionscript, bash/shell, c, c++, ...   \n",
              "40371              73400.0  .net, actionscript, c, c++, c#, cobol, delphi,...   \n",
              "42617             101760.0  .net, abap, actionscript, bash/shell, c, c++, ...   \n",
              "45362             101760.0  .net, abap, actionscript, bash/shell, c, c++, ...   \n",
              "\n",
              "         Lenguaje  \n",
              "0            html  \n",
              "1      bash/shell  \n",
              "2             css  \n",
              "3      javascript  \n",
              "4      javascript  \n",
              "...           ...  \n",
              "37626   smalltalk  \n",
              "39872      python  \n",
              "40371         sql  \n",
              "42617         sql  \n",
              "45362         vba  \n",
              "\n",
              "[9302 rows x 3 columns]"
            ]
          },
          "execution_count": 354,
          "metadata": {},
          "output_type": "execute_result"
        }
      ],
      "source": [
        "df_final = df_melt[[\"salary_monthly_NETO\", \"tools_programming_languages\", \"Lenguaje\"]]\n",
        "df_final"
      ]
    },
    {
      "cell_type": "code",
      "execution_count": null,
      "metadata": {
        "colab": {
          "base_uri": "https://localhost:8080/",
          "height": 357
        },
        "id": "lNPb4tTvWCwv",
        "outputId": "02efa4bd-7d00-49c1-efee-d5d68f3eaf9f"
      },
      "outputs": [
        {
          "data": {
            "text/html": [
              "<div>\n",
              "<style scoped>\n",
              "    .dataframe tbody tr th:only-of-type {\n",
              "        vertical-align: middle;\n",
              "    }\n",
              "\n",
              "    .dataframe tbody tr th {\n",
              "        vertical-align: top;\n",
              "    }\n",
              "\n",
              "    .dataframe thead th {\n",
              "        text-align: right;\n",
              "    }\n",
              "</style>\n",
              "<table border=\"1\" class=\"dataframe\">\n",
              "  <thead>\n",
              "    <tr style=\"text-align: right;\">\n",
              "      <th></th>\n",
              "      <th>Lenguaje</th>\n",
              "      <th>frecuencia</th>\n",
              "      <th>Salario_Promedio</th>\n",
              "    </tr>\n",
              "  </thead>\n",
              "  <tbody>\n",
              "    <tr>\n",
              "      <th>0</th>\n",
              "      <td>javascript</td>\n",
              "      <td>1115</td>\n",
              "      <td>81415.26</td>\n",
              "    </tr>\n",
              "    <tr>\n",
              "      <th>1</th>\n",
              "      <td>sql</td>\n",
              "      <td>1068</td>\n",
              "      <td>81697.93</td>\n",
              "    </tr>\n",
              "    <tr>\n",
              "      <th>2</th>\n",
              "      <td>html</td>\n",
              "      <td>804</td>\n",
              "      <td>79475.53</td>\n",
              "    </tr>\n",
              "    <tr>\n",
              "      <th>3</th>\n",
              "      <td>python</td>\n",
              "      <td>627</td>\n",
              "      <td>83855.21</td>\n",
              "    </tr>\n",
              "    <tr>\n",
              "      <th>4</th>\n",
              "      <td>bash/shell</td>\n",
              "      <td>503</td>\n",
              "      <td>85029.43</td>\n",
              "    </tr>\n",
              "    <tr>\n",
              "      <th>...</th>\n",
              "      <td>...</td>\n",
              "      <td>...</td>\n",
              "      <td>...</td>\n",
              "    </tr>\n",
              "    <tr>\n",
              "      <th>153</th>\n",
              "      <td>vb 6</td>\n",
              "      <td>1</td>\n",
              "      <td>77407.10</td>\n",
              "    </tr>\n",
              "    <tr>\n",
              "      <th>154</th>\n",
              "      <td>clojure</td>\n",
              "      <td>1</td>\n",
              "      <td>103000.00</td>\n",
              "    </tr>\n",
              "    <tr>\n",
              "      <th>155</th>\n",
              "      <td>x++</td>\n",
              "      <td>1</td>\n",
              "      <td>86000.00</td>\n",
              "    </tr>\n",
              "    <tr>\n",
              "      <th>156</th>\n",
              "      <td>asp</td>\n",
              "      <td>1</td>\n",
              "      <td>100000.00</td>\n",
              "    </tr>\n",
              "    <tr>\n",
              "      <th>157</th>\n",
              "      <td>no aplica</td>\n",
              "      <td>1</td>\n",
              "      <td>113000.00</td>\n",
              "    </tr>\n",
              "  </tbody>\n",
              "</table>\n",
              "<p>158 rows × 3 columns</p>\n",
              "</div>"
            ],
            "text/plain": [
              "        Lenguaje  frecuencia  Salario_Promedio\n",
              "0     javascript        1115          81415.26\n",
              "1            sql        1068          81697.93\n",
              "2           html         804          79475.53\n",
              "3         python         627          83855.21\n",
              "4     bash/shell         503          85029.43\n",
              "..           ...         ...               ...\n",
              "153         vb 6           1          77407.10\n",
              "154      clojure           1         103000.00\n",
              "155          x++           1          86000.00\n",
              "156          asp           1         100000.00\n",
              "157    no aplica           1         113000.00\n",
              "\n",
              "[158 rows x 3 columns]"
            ]
          },
          "execution_count": 371,
          "metadata": {},
          "output_type": "execute_result"
        }
      ],
      "source": [
        "leng_cant = df_final.Lenguaje.value_counts().reset_index().rename(columns={'index': 'Lenguaje', 'Lenguaje': 'frecuencia'})\n",
        "salario_prom = df_final.groupby(['Lenguaje']).mean().round(2).rename(columns={'salary_monthly_NETO': 'Salario_Promedio'})\n",
        "join = pd.merge(leng_cant, salario_prom, on='Lenguaje', how='inner')\n",
        "join"
      ]
    },
    {
      "cell_type": "markdown",
      "metadata": {
        "id": "nThbJ1KeUgDo"
      },
      "source": [
        "## Filtrado de lenguajes relevantes\n",
        "\n",
        "El siguiente código permite seleccionar sólo las filas donde el valor de la columna `programming_language` se encuentre en la lista `interesting_languages`."
      ]
    },
    {
      "cell_type": "markdown",
      "metadata": {
        "id": "dqzf1TNMUhkd"
      },
      "source": [
        "Filtro los Lenguajes que se repiten menos de 10 veces, ya que los considero como una muestra poco representativa"
      ]
    },
    {
      "cell_type": "code",
      "execution_count": null,
      "metadata": {
        "id": "vgY46RkJUhkd",
        "outputId": "243f6141-b428-4830-b292-be1d0945d2e7"
      },
      "outputs": [
        {
          "data": {
            "text/html": [
              "<div>\n",
              "<style scoped>\n",
              "    .dataframe tbody tr th:only-of-type {\n",
              "        vertical-align: middle;\n",
              "    }\n",
              "\n",
              "    .dataframe tbody tr th {\n",
              "        vertical-align: top;\n",
              "    }\n",
              "\n",
              "    .dataframe thead th {\n",
              "        text-align: right;\n",
              "    }\n",
              "</style>\n",
              "<table border=\"1\" class=\"dataframe\">\n",
              "  <thead>\n",
              "    <tr style=\"text-align: right;\">\n",
              "      <th></th>\n",
              "      <th>Lenguaje</th>\n",
              "      <th>frecuencia</th>\n",
              "      <th>Salario_Promedio</th>\n",
              "    </tr>\n",
              "  </thead>\n",
              "  <tbody>\n",
              "    <tr>\n",
              "      <th>0</th>\n",
              "      <td>javascript</td>\n",
              "      <td>1115</td>\n",
              "      <td>81415.26</td>\n",
              "    </tr>\n",
              "    <tr>\n",
              "      <th>1</th>\n",
              "      <td>sql</td>\n",
              "      <td>1068</td>\n",
              "      <td>81697.93</td>\n",
              "    </tr>\n",
              "    <tr>\n",
              "      <th>2</th>\n",
              "      <td>html</td>\n",
              "      <td>804</td>\n",
              "      <td>79475.53</td>\n",
              "    </tr>\n",
              "    <tr>\n",
              "      <th>3</th>\n",
              "      <td>python</td>\n",
              "      <td>627</td>\n",
              "      <td>83855.21</td>\n",
              "    </tr>\n",
              "    <tr>\n",
              "      <th>4</th>\n",
              "      <td>bash/shell</td>\n",
              "      <td>503</td>\n",
              "      <td>85029.43</td>\n",
              "    </tr>\n",
              "    <tr>\n",
              "      <th>5</th>\n",
              "      <td>java</td>\n",
              "      <td>500</td>\n",
              "      <td>83352.62</td>\n",
              "    </tr>\n",
              "    <tr>\n",
              "      <th>6</th>\n",
              "      <td>.net</td>\n",
              "      <td>452</td>\n",
              "      <td>80463.54</td>\n",
              "    </tr>\n",
              "    <tr>\n",
              "      <th>7</th>\n",
              "      <td>php</td>\n",
              "      <td>416</td>\n",
              "      <td>79980.93</td>\n",
              "    </tr>\n",
              "    <tr>\n",
              "      <th>8</th>\n",
              "      <td>typescript</td>\n",
              "      <td>404</td>\n",
              "      <td>82364.87</td>\n",
              "    </tr>\n",
              "    <tr>\n",
              "      <th>9</th>\n",
              "      <td>css</td>\n",
              "      <td>367</td>\n",
              "      <td>79173.81</td>\n",
              "    </tr>\n",
              "  </tbody>\n",
              "</table>\n",
              "</div>"
            ],
            "text/plain": [
              "      Lenguaje  frecuencia  Salario_Promedio\n",
              "0   javascript        1115          81415.26\n",
              "1          sql        1068          81697.93\n",
              "2         html         804          79475.53\n",
              "3       python         627          83855.21\n",
              "4   bash/shell         503          85029.43\n",
              "5         java         500          83352.62\n",
              "6         .net         452          80463.54\n",
              "7          php         416          79980.93\n",
              "8   typescript         404          82364.87\n",
              "9          css         367          79173.81"
            ]
          },
          "execution_count": 373,
          "metadata": {},
          "output_type": "execute_result"
        }
      ],
      "source": [
        "join_filt = join[join['frecuencia'] > 10]\n",
        "join_filt.head(10)"
      ]
    },
    {
      "cell_type": "markdown",
      "metadata": {
        "id": "0PyBNg5sUhkd"
      },
      "source": [
        "# FALTAN AGREGAR GRAFICOS"
      ]
    },
    {
      "cell_type": "markdown",
      "metadata": {
        "id": "tWo8SmmC9FAk"
      },
      "source": [
        "# Ejercicio 2 - Densidades y varias variables\n",
        "\n",
        "Responder a la pregunta general: **¿Que herramientas (prácticas y teóricas) són útiles para explorar la base, descubrir patrones, asociaciones?**\n",
        "\n",
        "Para ello considere (igual al ejercicio Anterior):\n",
        "1. Seleccionar las columnas relevantes para analizar.\n",
        "2. Seleccionar las filas relevantes para analizar. Esto incluye la eliminación de valores extremos y erróneos, pero también puede enfocar el análisis en sub-poblaciones. "
      ]
    },
    {
      "cell_type": "markdown",
      "metadata": {
        "id": "5baYhH0XHM3S"
      },
      "source": [
        "## a) Densidad conjunta\n",
        "\n",
        "Que herramientas visuales y modelos puede utilizar para estudiar la distribución y comportamiento de sus datos? \n",
        "\n",
        "Elija tres variables numéricas y 2 variables categóricas. Visualice la base según varias de las variables elegidas. Puede describir de alguna forma el comportamiento de sus datos? Que herramientas utilizaría? Describa\n",
        "\n",
        "\n"
      ]
    },
    {
      "cell_type": "markdown",
      "metadata": {
        "id": "lkuHE2aZGHMO"
      },
      "source": [
        "## b) Asociación\n",
        "\n",
        "* Necesitamos decidir si sacar o no la columna de salario bruto. Para hacer la encuesta más simple.\n",
        "¿Existe una correlación entre el salario bruto y el neto? Que abordaje y medidas usaría\n",
        "\n"
      ]
    },
    {
      "cell_type": "markdown",
      "metadata": {
        "id": "7MZrbRJCm-ae"
      },
      "source": [
        "## c) Densidad condicional \n",
        "\n",
        "Estudie la distribución del salario según el nivel de estudio.\n",
        "\n",
        "Separe la población según el nivel de estudio (elija dos subpoblaciones numerosas) y grafique de manera comparativa ambos histogramas de la variable `'salary_monthly_NETO'`\n",
        "¿Considera que ambas variables son independientes?\n",
        "¿Qué analizaría al respecto?\n",
        "\n",
        "Calcule medidas de centralización y dispersión para cada subpoblación\n",
        "\n",
        "\n",
        "\n",
        "\n"
      ]
    },
    {
      "cell_type": "markdown",
      "metadata": {
        "id": "u8wgYxNiqVpE"
      },
      "source": [
        "## d) Densidad Conjunta condicional\n",
        "\n",
        "Elija dos variables numéricas y una categórica. \n",
        "Estudie la dispersión (scatterplot) de las dos variables discriminando en color por la variable categórica (ayuda: hue en seaborn)\n"
      ]
    }
  ],
  "metadata": {
    "colab": {
      "collapsed_sections": [],
      "name": "Entregable_Parte_1_FB_Faltan_Graficos.ipynb",
      "provenance": [],
      "include_colab_link": true
    },
    "kernelspec": {
      "display_name": "Python 3",
      "language": "python",
      "name": "python3"
    },
    "language_info": {
      "codemirror_mode": {
        "name": "ipython",
        "version": 3
      },
      "file_extension": ".py",
      "mimetype": "text/x-python",
      "name": "python",
      "nbconvert_exporter": "python",
      "pygments_lexer": "ipython3",
      "version": "3.8.5"
    }
  },
  "nbformat": 4,
  "nbformat_minor": 0
}